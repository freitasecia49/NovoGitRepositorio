{
  "nbformat": 4,
  "nbformat_minor": 0,
  "metadata": {
    "colab": {
      "provenance": [],
      "authorship_tag": "ABX9TyMmfQ9Guc9cXJgDRrH1GwUa",
      "include_colab_link": true
    },
    "kernelspec": {
      "name": "python3",
      "display_name": "Python 3"
    },
    "language_info": {
      "name": "python"
    }
  },
  "cells": [
    {
      "cell_type": "markdown",
      "metadata": {
        "id": "view-in-github",
        "colab_type": "text"
      },
      "source": [
        "<a href=\"https://colab.research.google.com/github/freitasecia49/NovoGitRepositorio/blob/master/Conexao_SQL.ipynb\" target=\"_parent\"><img src=\"https://colab.research.google.com/assets/colab-badge.svg\" alt=\"Open In Colab\"/></a>"
      ]
    },
    {
      "cell_type": "code",
      "execution_count": 1,
      "metadata": {
        "colab": {
          "base_uri": "https://localhost:8080/"
        },
        "id": "I2sb9n89-IEB",
        "outputId": "c40f05ea-0d04-493a-b946-44c3674b214f"
      },
      "outputs": [
        {
          "output_type": "stream",
          "name": "stdout",
          "text": [
            "35.237.208.187"
          ]
        }
      ],
      "source": [
        "!curl ipecho.net/plain #cria um IP para fazer API"
      ]
    },
    {
      "cell_type": "code",
      "source": [
        "!pip install mysql-connector-python"
      ],
      "metadata": {
        "colab": {
          "base_uri": "https://localhost:8080/"
        },
        "id": "NjDByfFYK7Rs",
        "outputId": "434ab4ec-21c0-49e8-92c4-8a7a8ab14350"
      },
      "execution_count": 2,
      "outputs": [
        {
          "output_type": "stream",
          "name": "stdout",
          "text": [
            "Collecting mysql-connector-python\n",
            "  Downloading mysql_connector_python-9.2.0-cp311-cp311-manylinux_2_28_x86_64.whl.metadata (6.0 kB)\n",
            "Downloading mysql_connector_python-9.2.0-cp311-cp311-manylinux_2_28_x86_64.whl (34.0 MB)\n",
            "\u001b[2K   \u001b[90m━━━━━━━━━━━━━━━━━━━━━━━━━━━━━━━━━━━━━━━━\u001b[0m \u001b[32m34.0/34.0 MB\u001b[0m \u001b[31m28.0 MB/s\u001b[0m eta \u001b[36m0:00:00\u001b[0m\n",
            "\u001b[?25hInstalling collected packages: mysql-connector-python\n",
            "Successfully installed mysql-connector-python-9.2.0\n"
          ]
        }
      ]
    },
    {
      "cell_type": "code",
      "source": [
        "import mysql.connector\n",
        "import pandas as pd"
      ],
      "metadata": {
        "id": "B19-TyU-LUoY"
      },
      "execution_count": 3,
      "outputs": []
    },
    {
      "cell_type": "code",
      "source": [
        "host = '34.41.126.160' #endereço do banco de dados externo que quero acessar\n",
        "user = 'root' #usuário do banco de dados\n",
        "password = '12!@qwQW' #senha do banco de dados\n",
        "database = 'RH' #nome do banco de dados"
      ],
      "metadata": {
        "id": "eRDDS8CtLpiK"
      },
      "execution_count": 14,
      "outputs": []
    },
    {
      "cell_type": "code",
      "source": [
        "connection = mysql.connector.connect(\n",
        "    host=host,\n",
        "    user=user,\n",
        "    password=password,\n",
        ") # estas linhas servem para criar a conexão com o banco de dados\n",
        "cursor = connection.cursor() #criando o cursor para apontar para o banco de dados\n",
        "query = 'show databases;' # Query ou consulta desejada\n",
        "cursor.execute(query) # Execução da consulta\n",
        "result = cursor.fetchall() # armazenando os resultados na variável results\n",
        "bancos = pd.DataFrame(result,columns=cursor.column_names) # convertendo a variável result em um df pandas chamado tabelas\n",
        "display(bancos) # exibindo a tabela pandas\n",
        "cursor.close() # fechando o cursor\n",
        "connection.close() # fechando a conexão"
      ],
      "metadata": {
        "id": "0XUnoB-PRyoS"
      },
      "execution_count": null,
      "outputs": []
    },
    {
      "cell_type": "code",
      "source": [
        "connection = mysql.connector.connect(\n",
        "    host=host,\n",
        "    user=user,\n",
        "    password=password,\n",
        ") # estas linhas servem para criar a conexão com a instância\n",
        "cursor = connection.cursor() #criando o cursor para apontar para a instância\n",
        "query = 'create database RH' # Query ou consulta desejada\n",
        "cursor.execute(query) # Execução da consulta\n",
        "connection.commit()\n",
        "cursor.close() # fechando o cursor\n",
        "connection.close() # fechando a conexão"
      ],
      "metadata": {
        "id": "yTuZPSrgTcKC"
      },
      "execution_count": 16,
      "outputs": []
    },
    {
      "cell_type": "code",
      "source": [
        "def consulta():\n",
        "  query = input('Informe a query: ')\n",
        "  tabela = input('Informe o nme da tabela para armazenar: ')\n",
        "  connection = mysql.connector.connect(\n",
        "      host = host,\n",
        "      user = user,\n",
        "      password = password,\n",
        "      database = database\n",
        "  )\n",
        "  cursor = connection.cursor()\n",
        "\n",
        "  try:\n",
        "    cursor.execute(query)\n",
        "    result = cursor.fetchall()\n",
        "    globals()[tabela] = pd.DataFrame(result, columns=cursor.column_names)\n",
        "    display(globals()[tabela])\n",
        "  finally:\n",
        "    cursor.close()\n",
        "    connection.close()"
      ],
      "metadata": {
        "id": "N3P7IqOEUxgo"
      },
      "execution_count": null,
      "outputs": []
    },
    {
      "cell_type": "code",
      "source": [
        "consulta()"
      ],
      "metadata": {
        "id": "6VrAb2oiVJtx"
      },
      "execution_count": null,
      "outputs": []
    }
  ]
}