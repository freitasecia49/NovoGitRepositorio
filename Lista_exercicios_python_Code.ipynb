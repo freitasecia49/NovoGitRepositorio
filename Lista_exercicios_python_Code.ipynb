{
  "nbformat": 4,
  "nbformat_minor": 0,
  "metadata": {
    "colab": {
      "provenance": [],
      "include_colab_link": true
    },
    "kernelspec": {
      "name": "python3",
      "display_name": "Python 3"
    },
    "language_info": {
      "name": "python"
    }
  },
  "cells": [
    {
      "cell_type": "markdown",
      "metadata": {
        "id": "view-in-github",
        "colab_type": "text"
      },
      "source": [
        "<a href=\"https://colab.research.google.com/github/freitasecia49/NovoGitRepositorio/blob/master/Lista_exercicios_python_Code.ipynb\" target=\"_parent\"><img src=\"https://colab.research.google.com/assets/colab-badge.svg\" alt=\"Open In Colab\"/></a>"
      ]
    },
    {
      "cell_type": "code",
      "execution_count": null,
      "metadata": {
        "id": "_FXUnxoCY03E"
      },
      "outputs": [],
      "source": [
        "'''\n",
        "Crie duas variáveis com dois valores numéricos inteiros digitados pelo usuário,\n",
        "caso o valor do primeiro número for maior que o do segundo, exiba em tela uma\n",
        "mensagem de acordo, caso contrário, exiba em tela uma mensagem dizendo que o\n",
        "primeiro valor digitado é menor que o segundo:\n",
        "'''"
      ]
    },
    {
      "cell_type": "code",
      "source": [
        "# Solicita ao usuário que digite dois valores numéricos inteiros\n",
        "num1 = int(input(\"Digite o primeiro número inteiro: \"))\n",
        "num2 = int(input(\"Digite o segundo número inteiro: \"))\n",
        "\n",
        "# Compara os valores e exibe a mensagem correspondente\n",
        "if num1 > num2:\n",
        "    print(f\"O primeiro valor ({num1}) é MAIOR que o segundo valor ({num2}).\")\n",
        "else:\n",
        "    print(f\"O primeiro valor ({num1}) é MENOR que o segundo valor ({num2}).\")"
      ],
      "metadata": {
        "colab": {
          "base_uri": "https://localhost:8080/"
        },
        "id": "VFOtUUeCg2Gm",
        "outputId": "54cd61bb-c422-4bb2-c5b9-2ee17e306976"
      },
      "execution_count": 5,
      "outputs": [
        {
          "output_type": "stream",
          "name": "stdout",
          "text": [
            "Digite o primeiro número inteiro: 10\n",
            "Digite o segundo número inteiro: 2\n",
            "O primeiro valor (10) é MAIOR que o segundo valor (2).\n"
          ]
        }
      ]
    },
    {
      "cell_type": "code",
      "source": [
        "'''\n",
        "Peça para que o usuário digite um número inteiro, em seguida exiba em tela uma\n",
        "mensagem dizendo se tal número é PAR ou se é ÍMPAR:\n",
        "'''"
      ],
      "metadata": {
        "id": "fDwBk8xXbZlv"
      },
      "execution_count": null,
      "outputs": []
    },
    {
      "cell_type": "code",
      "source": [
        "# Solicita ao usuário que digite um número inteiro\n",
        "numero = int(input(\"Digite um número inteiro: \"))\n",
        "\n",
        "# Verifica se o número é par ou ímpar e exibe a mensagem correspondente\n",
        "if numero % 2 == 0:\n",
        "    print(f\"O número {numero} é PAR.\")\n",
        "else:\n",
        "    print(f\"O número {numero} é ÍMPAR.\")"
      ],
      "metadata": {
        "colab": {
          "base_uri": "https://localhost:8080/"
        },
        "id": "BDNDd9uYhr1K",
        "outputId": "dbe9f6b3-00e0-4a98-9533-e5d278f0f49a"
      },
      "execution_count": 9,
      "outputs": [
        {
          "output_type": "stream",
          "name": "stdout",
          "text": [
            "Digite um número inteiro: 2526\n",
            "O número 2526 é PAR.\n"
          ]
        }
      ]
    },
    {
      "cell_type": "code",
      "source": [
        "'''\n",
        "Crie uma variável com valor inicial 0, enquanto o valor dessa variável for\n",
        "igual ou menos que 10, exiba em tela o próprio valor da variável. A cada\n",
        "execução a mesma deve ter seu valor atualizado, incrementado em 1 unidade.\n",
        "'''"
      ],
      "metadata": {
        "id": "vvnxDzyPiPra"
      },
      "execution_count": null,
      "outputs": []
    },
    {
      "cell_type": "code",
      "source": [
        "# Inicializa a variável com valor 0\n",
        "valor = 0\n",
        "\n",
        "# Loop enquanto o valor for igual ou menor que 10\n",
        "while valor <= 10:\n",
        "    # Exibe o valor atual da variável\n",
        "    print(valor)\n",
        "\n",
        "    # Incrementa o valor em 1 unidade\n",
        "    valor += 1"
      ],
      "metadata": {
        "colab": {
          "base_uri": "https://localhost:8080/"
        },
        "id": "1GDpb5RBh_5K",
        "outputId": "59a34b0c-2f7b-495a-faf6-2a5ed1c81efa"
      },
      "execution_count": 10,
      "outputs": [
        {
          "output_type": "stream",
          "name": "stdout",
          "text": [
            "0\n",
            "1\n",
            "2\n",
            "3\n",
            "4\n",
            "5\n",
            "6\n",
            "7\n",
            "8\n",
            "9\n",
            "10\n"
          ]
        }
      ]
    },
    {
      "cell_type": "code",
      "source": [
        "'''\n",
        "Crie uma lista com 8 elementos de uma lista de compras de supermercado, por\n",
        "meio de um laço de repetição for liste individualmente cada um dos itens dessa\n",
        "lista.\n",
        "'''"
      ],
      "metadata": {
        "id": "WAa7ns3zjsRO"
      },
      "execution_count": null,
      "outputs": []
    },
    {
      "cell_type": "code",
      "source": [
        "# Cria uma lista de compras com 8 elementos\n",
        "lista_compras = ['Arroz', 'Feijão', 'Macarrão', 'Leite', 'Pão', 'Ovos', 'Frutas', 'Legumes']\n",
        "\n",
        "# Usa um laço de repetição for para listar cada item individualmente\n",
        "for item in lista_compras:\n",
        "    print(item)"
      ],
      "metadata": {
        "colab": {
          "base_uri": "https://localhost:8080/"
        },
        "id": "qhQOH3myjFNI",
        "outputId": "bbeb1502-86e4-4665-fdb3-01c42dc2fce8"
      },
      "execution_count": 11,
      "outputs": [
        {
          "output_type": "stream",
          "name": "stdout",
          "text": [
            "Arroz\n",
            "Feijão\n",
            "Macarrão\n",
            "Leite\n",
            "Pão\n",
            "Ovos\n",
            "Frutas\n",
            "Legumes\n"
          ]
        }
      ]
    },
    {
      "cell_type": "code",
      "source": [
        "'''\n",
        "Crie um programa que lê um valor de início e um valor de fim informados pelo\n",
        "usuário, exibindo em tela contagem dos números dentro desse intervalo.\n",
        "'''\n"
      ],
      "metadata": {
        "id": "CrAanzZDoOE9"
      },
      "execution_count": null,
      "outputs": []
    },
    {
      "cell_type": "code",
      "source": [
        "# Solicita ao usuário que digite dois valores numéricos inteiros distintos\n",
        "inicio = int(input(\"Digite o número inteiro inicio: \"))\n",
        "fim = int(input(\"Digite o número inteiro fim : \"))\n",
        "\n",
        "if inicio < fim:\n",
        "    for numero in range(inicio - 1, fim ):\n",
        "        print(numero)\n",
        "else:\n",
        "    print(\"O valor de início deve ser menor que o valor de fim.\")\n",
        "\n"
      ],
      "metadata": {
        "colab": {
          "base_uri": "https://localhost:8080/"
        },
        "id": "r32FW9NvkWC-",
        "outputId": "b08241da-ff9d-4e82-c860-040497cb93dd"
      },
      "execution_count": 25,
      "outputs": [
        {
          "output_type": "stream",
          "name": "stdout",
          "text": [
            "Digite o número inteiro inicio: 20\n",
            "Digite o número inteiro fim : 30\n",
            "19\n",
            "20\n",
            "21\n",
            "22\n",
            "23\n",
            "24\n",
            "25\n",
            "26\n",
            "27\n",
            "28\n",
            "29\n"
          ]
        }
      ]
    },
    {
      "cell_type": "code",
      "source": [
        "'''\n",
        "Crie um programa que exibe em tela a tabuada de um determinado número fornecido\n",
        "pelo usuário:\n",
        "'''"
      ],
      "metadata": {
        "id": "twRxP9lGqifc"
      },
      "execution_count": null,
      "outputs": []
    },
    {
      "cell_type": "code",
      "source": [
        "# Solicita ao usuário um número\n",
        "numero = int(input(\"Digite um número para ver sua tabuada: \"))\n",
        "\n",
        "# Gera e exibe a tabuada do número fornecido\n",
        "print(f\"Tabuada do {numero}:\")\n",
        "for i in range(1, 11):\n",
        "    print(f\"{numero} x {i} = {numero * i}\")"
      ],
      "metadata": {
        "colab": {
          "base_uri": "https://localhost:8080/"
        },
        "id": "Gch_qpDcnOct",
        "outputId": "ffe3a6df-8742-4eb3-a8bf-6030af372831"
      },
      "execution_count": 31,
      "outputs": [
        {
          "output_type": "stream",
          "name": "stdout",
          "text": [
            "Digite um número para ver sua tabuada: 2\n",
            "Tabuada do 2:\n",
            "2 x 1 = 2\n",
            "2 x 2 = 4\n",
            "2 x 3 = 6\n",
            "2 x 4 = 8\n",
            "2 x 5 = 10\n",
            "2 x 6 = 12\n",
            "2 x 7 = 14\n",
            "2 x 8 = 16\n",
            "2 x 9 = 18\n",
            "2 x 10 = 20\n"
          ]
        }
      ]
    },
    {
      "cell_type": "code",
      "source": [
        "'''\n",
        "Crie um programa que pede ao usuário que o mesmo digite um número inteiro\n",
        "qualquer, em  seguida retorne se esse número é primo ou não, caso não, retorne\n",
        "também quantas vezes esse número é divisível:\n",
        "'''"
      ],
      "metadata": {
        "id": "30S-znZYtOGs"
      },
      "execution_count": null,
      "outputs": []
    },
    {
      "cell_type": "code",
      "source": [
        "numero = int(input(\"Digite um número inteiro: \"))\n",
        "\n",
        "if numero"
      ],
      "metadata": {
        "id": "IVq4vGJcpQhe"
      },
      "execution_count": null,
      "outputs": []
    }
  ]
}