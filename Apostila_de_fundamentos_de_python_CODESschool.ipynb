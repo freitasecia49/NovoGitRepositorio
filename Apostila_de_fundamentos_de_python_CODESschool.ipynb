{
  "nbformat": 4,
  "nbformat_minor": 0,
  "metadata": {
    "colab": {
      "provenance": [],
      "authorship_tag": "ABX9TyNpRbAy4f58NQBdYRRYEAY3",
      "include_colab_link": true
    },
    "kernelspec": {
      "name": "python3",
      "display_name": "Python 3"
    },
    "language_info": {
      "name": "python"
    }
  },
  "cells": [
    {
      "cell_type": "markdown",
      "metadata": {
        "id": "view-in-github",
        "colab_type": "text"
      },
      "source": [
        "<a href=\"https://colab.research.google.com/github/freitasecia49/NovoGitRepositorio/blob/master/Apostila_de_fundamentos_de_python_CODESschool.ipynb\" target=\"_parent\"><img src=\"https://colab.research.google.com/assets/colab-badge.svg\" alt=\"Open In Colab\"/></a>"
      ]
    },
    {
      "cell_type": "markdown",
      "source": [
        "1 - Variáveis e tipo de dados\n",
        "1.1 - Variáveis de texto"
      ],
      "metadata": {
        "id": "KYFe0FGzzhiL"
      }
    },
    {
      "cell_type": "code",
      "execution_count": 4,
      "metadata": {
        "colab": {
          "base_uri": "https://localhost:8080/",
          "height": 35
        },
        "id": "B-upyXrRxwc5",
        "outputId": "bb5c99ea-2912-4901-cce1-7a8798ba4f7d"
      },
      "outputs": [
        {
          "output_type": "execute_result",
          "data": {
            "text/plain": [
              "'aspas triplas para comentários de mais uma linha '"
            ],
            "application/vnd.google.colaboratory.intrinsic+json": {
              "type": "string"
            }
          },
          "metadata": {},
          "execution_count": 4
        }
      ],
      "source": [
        "# hashitag na área de código para comentários\n",
        "'''aspas triplas para comentários de mais uma linha '''"
      ]
    },
    {
      "cell_type": "code",
      "source": [
        "# strings\n",
        "cliente = 'Saulo'\n",
        "print(cliente)\n",
        "#verificar qual o tipo de dado foi escolhido automaticamente\n",
        "type(cliente)"
      ],
      "metadata": {
        "colab": {
          "base_uri": "https://localhost:8080/"
        },
        "id": "Wa2Xvesz0QjE",
        "outputId": "056b7874-e2c5-4ca5-be0d-861c2f6ce2fe"
      },
      "execution_count": 6,
      "outputs": [
        {
          "output_type": "stream",
          "name": "stdout",
          "text": [
            "Saulo\n"
          ]
        },
        {
          "output_type": "execute_result",
          "data": {
            "text/plain": [
              "str"
            ]
          },
          "metadata": {},
          "execution_count": 6
        }
      ]
    },
    {
      "cell_type": "code",
      "source": [
        "# números inteiros\n",
        "idade = 27\n",
        "print(idade)\n",
        "type(idade)"
      ],
      "metadata": {
        "colab": {
          "base_uri": "https://localhost:8080/"
        },
        "id": "hwGPhIDe3rFs",
        "outputId": "22da5883-de80-4506-ae34-2b6e236ad573"
      },
      "execution_count": 7,
      "outputs": [
        {
          "output_type": "stream",
          "name": "stdout",
          "text": [
            "27\n"
          ]
        },
        {
          "output_type": "execute_result",
          "data": {
            "text/plain": [
              "int"
            ]
          },
          "metadata": {},
          "execution_count": 7
        }
      ]
    },
    {
      "cell_type": "code",
      "source": [
        "#float = números com casas decimais\n",
        "altura = 1.75\n",
        "print(altura)\n",
        "type(altura)"
      ],
      "metadata": {
        "colab": {
          "base_uri": "https://localhost:8080/"
        },
        "id": "-mEfQZsr4b5O",
        "outputId": "ea7e9bff-7611-492d-ceba-6a54c288dfca"
      },
      "execution_count": 8,
      "outputs": [
        {
          "output_type": "stream",
          "name": "stdout",
          "text": [
            "1.75\n"
          ]
        },
        {
          "output_type": "execute_result",
          "data": {
            "text/plain": [
              "float"
            ]
          },
          "metadata": {},
          "execution_count": 8
        }
      ]
    },
    {
      "cell_type": "code",
      "source": [
        "#mudando o tipo original do dado\n",
        "'''Suponha qua você tem o no. 1.85 tipado como string mas deseja convertê-lo para float'''\n",
        "n = '1.85'\n",
        "print(type(n))\n",
        "n = float(n)\n",
        "print(type(n))"
      ],
      "metadata": {
        "colab": {
          "base_uri": "https://localhost:8080/"
        },
        "id": "mPQfEZPG6Zci",
        "outputId": "4ca85ba3-4211-4280-8d8c-247c42aecccb"
      },
      "execution_count": 9,
      "outputs": [
        {
          "output_type": "stream",
          "name": "stdout",
          "text": [
            "<class 'str'>\n",
            "<class 'float'>\n"
          ]
        }
      ]
    },
    {
      "cell_type": "code",
      "source": [
        "'''Transformando valor int em float'''\n",
        "print(type(idade))\n",
        "idade = float(idade)\n",
        "print(type(idade))"
      ],
      "metadata": {
        "colab": {
          "base_uri": "https://localhost:8080/"
        },
        "id": "VmpBaZaH7trW",
        "outputId": "4a758a6d-42a7-4adb-8329-964d554cc2fd"
      },
      "execution_count": 10,
      "outputs": [
        {
          "output_type": "stream",
          "name": "stdout",
          "text": [
            "<class 'int'>\n",
            "<class 'float'>\n"
          ]
        }
      ]
    },
    {
      "cell_type": "markdown",
      "source": [
        "2 - OPERADORES MATEMÁTICOS"
      ],
      "metadata": {
        "id": "MiqQIda284_I"
      }
    },
    {
      "cell_type": "code",
      "source": [
        "#SOMA\n",
        "soma = 10 + 20\n",
        "print(soma)"
      ],
      "metadata": {
        "colab": {
          "base_uri": "https://localhost:8080/"
        },
        "id": "7_L_WRT_8-NB",
        "outputId": "b6e523f3-50ae-4abe-f8aa-0ad999d1b25c"
      },
      "execution_count": 15,
      "outputs": [
        {
          "output_type": "stream",
          "name": "stdout",
          "text": [
            "30\n"
          ]
        }
      ]
    },
    {
      "cell_type": "code",
      "source": [
        "#SUBTRAÇÃO\n",
        "subtracao = 20 - 10\n",
        "print(subtracao)"
      ],
      "metadata": {
        "colab": {
          "base_uri": "https://localhost:8080/"
        },
        "id": "RRDjvSZC9VbI",
        "outputId": "652e2801-8721-4fce-de3d-6455f7b22e73"
      },
      "execution_count": 17,
      "outputs": [
        {
          "output_type": "stream",
          "name": "stdout",
          "text": [
            "10\n"
          ]
        }
      ]
    },
    {
      "cell_type": "code",
      "source": [
        "#MULTIPLICAÇÃO\n",
        "multiplicacao = 20 * 20\n",
        "print(multiplicacao)"
      ],
      "metadata": {
        "colab": {
          "base_uri": "https://localhost:8080/"
        },
        "id": "RE7DEB1A9y2Z",
        "outputId": "ed599a5c-04db-43b6-f7a5-6cb32d84ba9e"
      },
      "execution_count": 16,
      "outputs": [
        {
          "output_type": "stream",
          "name": "stdout",
          "text": [
            "400\n"
          ]
        }
      ]
    },
    {
      "cell_type": "code",
      "source": [
        "#DIVISÃO\n",
        "divisao = 20 / 2\n",
        "print(divisao)"
      ],
      "metadata": {
        "colab": {
          "base_uri": "https://localhost:8080/"
        },
        "id": "qtGGoSh996rp",
        "outputId": "12ec18f7-6710-4c8c-f7d9-02d6a7db652e"
      },
      "execution_count": 18,
      "outputs": [
        {
          "output_type": "stream",
          "name": "stdout",
          "text": [
            "10.0\n"
          ]
        }
      ]
    }
  ]
}