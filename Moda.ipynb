{
  "nbformat": 4,
  "nbformat_minor": 0,
  "metadata": {
    "colab": {
      "provenance": [],
      "authorship_tag": "ABX9TyOH8Bd0MF8l+gQdROWIfME3",
      "include_colab_link": true
    },
    "kernelspec": {
      "name": "python3",
      "display_name": "Python 3"
    },
    "language_info": {
      "name": "python"
    }
  },
  "cells": [
    {
      "cell_type": "markdown",
      "metadata": {
        "id": "view-in-github",
        "colab_type": "text"
      },
      "source": [
        "<a href=\"https://colab.research.google.com/github/freitasecia49/NovoGitRepositorio/blob/master/Moda.ipynb\" target=\"_parent\"><img src=\"https://colab.research.google.com/assets/colab-badge.svg\" alt=\"Open In Colab\"/></a>"
      ]
    },
    {
      "cell_type": "code",
      "source": [
        "import statistics"
      ],
      "metadata": {
        "id": "2KsJ2PEfTFRA"
      },
      "execution_count": 5,
      "outputs": []
    },
    {
      "cell_type": "code",
      "source": [
        "dados = [1, 2, 3, 4, 4, 4,5]\n",
        "moda = statistics.mode(dados)\n",
        "print(f'moda: {moda}')\n",
        "\n",
        "#moda para dados não numéricos\n",
        "dados_nao_numericos = ['azul', 'anarelo', 'verde', 'vermelho', 'azul']\n",
        "moda_nao_numerica = statistics.mode(dados_nao_numericos)\n",
        "print(f'moda_nao_numerica: {moda_nao_numerica}')\n",
        "\n",
        "#moda para dados multimodais\n",
        "dados_multimodal = [1, 2, 2, 3, 3, 3, 4, 4, 5, 5]\n",
        "moda_multimodal = statistics.multimode(dados_multimodal)\n",
        "print(moda_multimodal)"
      ],
      "metadata": {
        "colab": {
          "base_uri": "https://localhost:8080/"
        },
        "id": "8x3I1NlaTP42",
        "outputId": "99e7503e-cca5-4269-c749-45ec467adb96"
      },
      "execution_count": 7,
      "outputs": [
        {
          "output_type": "stream",
          "name": "stdout",
          "text": [
            "moda: 4\n",
            "moda_nao_numerica: azul\n",
            "[3]\n"
          ]
        }
      ]
    }
  ]
}