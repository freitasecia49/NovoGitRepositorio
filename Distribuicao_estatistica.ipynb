{
  "nbformat": 4,
  "nbformat_minor": 0,
  "metadata": {
    "colab": {
      "provenance": [],
      "include_colab_link": true
    },
    "kernelspec": {
      "name": "python3",
      "display_name": "Python 3"
    },
    "language_info": {
      "name": "python"
    }
  },
  "cells": [
    {
      "cell_type": "markdown",
      "metadata": {
        "id": "view-in-github",
        "colab_type": "text"
      },
      "source": [
        "<a href=\"https://colab.research.google.com/github/freitasecia49/NovoGitRepositorio/blob/master/Distribuicao_estatistica.ipynb\" target=\"_parent\"><img src=\"https://colab.research.google.com/assets/colab-badge.svg\" alt=\"Open In Colab\"/></a>"
      ]
    },
    {
      "cell_type": "code",
      "execution_count": null,
      "metadata": {
        "id": "DbKdrAWVUoyV"
      },
      "outputs": [],
      "source": [
        "'''Distribuição de probabilidade: descreve como os valores de uma variável estão distribuídos\n",
        "ao longo de um conjunto de valores possíveis\n",
        "Serve para entender se os valores são comuns ou incomuns e a calcular a probabilidade de ocorrer\n",
        "eventos específicos\n",
        "Distribuição Binomial: descreve a probabilidade de obter um determinado número de sucessos em um número\n",
        "fixo de tentativas independentes\n",
        "Ex.: Lançar uma moeda 5 vezes e querer saber a probabilidade de obter exatamente 3 caras. Calcular a\n",
        "probabilidade de sucesso\n",
        "\n",
        "Distribuição de Poisson: verifica eventos que ocorrem em um intervalo de tempo ou espaço fixo. Descreve\n",
        "a probabilidade de ocorrer um determinado número de eventos por PERÍODO.\n",
        "Ex.:Fresagem do robô; Call center: medir a probabilidade de um call center receber exatamente\n",
        "5 chamadas em uma hora\n",
        "\n",
        "Distribuição Normal/Gaussiana: é uma distribuição contínua simétrica em forma de sino. É utilizada para\n",
        "modelar fenômenos naturais. Ex.: probabilidade de uma pessoa ter entre 1,70 e 1,80 de altura\n",
        "dentro de uma população;peso, pressão sanguínea, etc\n",
        "'''"
      ]
    },
    {
      "cell_type": "code",
      "source": [
        "from scipy.stats import binom\n",
        "'''Sintaxe: binom.pmf(k , n, p)\n",
        "k: nº de sucessos que você quer calcular. Nº de vezes que o evento desejado ocorre\n",
        "em um determinado nº de tentativas\n",
        "n: nº total de tentativas ou experimentos. Cada tentativa tem dois resultados: sucesso ou falha\n",
        "p: é a probabilidade do sucesso em uma única tentativa. Valor entre 0 e 1,\n",
        "0: sucesso impossível\n",
        "1: sucesso garantido\n",
        "'''\n",
        "#Lançar uma moeda 5 vezes e querer saber a probabilidade de obter exatamente 3 caras.\n",
        "#Calcular a probabilidade de sucesso\n",
        "k = 3 #sucesso\n",
        "n = 5  #nº de tentativas\n",
        "p = 0.5  #probabilidade de sucesso\n",
        "\n",
        "#Função de Massa de Probabilidade (PMF)\n",
        "probabilidade = binom.pmf(k, n, p)\n",
        "print(f'A probabilidade de obter exatamente {k} caras em {n} lançamentos é de {probabilidade:.4f}')\n",
        "\n",
        "# Qual a probabilidade de obter no máximo 3 caras no contexto?\n",
        "# CDF: Função de Distribuição Cumulativa\n",
        "probabilidade_no_maximo = binom.cdf(k, n, p)\n",
        "print(f'Probabilidade de no máximo {k} sucessos: {probabilidade_no_maximo}')"
      ],
      "metadata": {
        "colab": {
          "base_uri": "https://localhost:8080/"
        },
        "id": "BUxvbkAxYUNo",
        "outputId": "6e3ccb0f-14dd-4411-b655-beb4c600b7bf"
      },
      "execution_count": null,
      "outputs": [
        {
          "output_type": "stream",
          "name": "stdout",
          "text": [
            "A probabilidade de obter exatamente 3 caras em 5 lançamentos é de 0.3125\n",
            "Probabilidade de no máximo 3 sucessos: 0.8125\n"
          ]
        }
      ]
    },
    {
      "cell_type": "code",
      "source": [
        "'''Em uma campanha de vendas, um vendedor realiza 3 visitas a clientes potenciais.\n",
        "A probabilidade de fechar uma venda em cada visita é de 30%. Qual é a probabilidade de\n",
        "não fechar nenhuma venda em todas as 3 visitas?'''\n",
        "k = 0 #sucesso\n",
        "n = 3  #nº de tentativas\n",
        "p =  0.3 #probabilidade de sucesso\n",
        "probabilidade_zero = binom.pmf(k,n,p)\n",
        "print(f'A probabilidade de 0 vendas em 3 visitas é: {probabilidade_zero:.3f}')"
      ],
      "metadata": {
        "colab": {
          "base_uri": "https://localhost:8080/"
        },
        "id": "VHY8zA1ReH2D",
        "outputId": "f6733c6c-7aaf-4ada-892b-22d15d581a60"
      },
      "execution_count": null,
      "outputs": [
        {
          "output_type": "stream",
          "name": "stdout",
          "text": [
            "A probabilidade de 0 vendas em 3 visitas é: 0.343\n"
          ]
        }
      ]
    },
    {
      "cell_type": "code",
      "source": [
        "def binomial ():\n",
        "  from scipy.stats import binom\n",
        "  p = float(input('Informe a probabilidade de sucesso em forma decimal (p): '))\n",
        "  n = int(input('Informe o número de tentativas (n): '))\n",
        "  k = int(input('Informe o valor necessário (k): '))\n",
        "  probabilidade = binom.pmf(k,n,p)\n",
        "  print(f'A probabilidade de {k} vendas em {n} visitas é de: {probabilidade:.3f} ou {probabilidade*100:.1f}%')"
      ],
      "metadata": {
        "id": "YTn9lZa1hHIn"
      },
      "execution_count": null,
      "outputs": []
    },
    {
      "cell_type": "code",
      "source": [
        "binomial()"
      ],
      "metadata": {
        "colab": {
          "base_uri": "https://localhost:8080/"
        },
        "id": "F36bO0opcNL3",
        "outputId": "937d64ba-4256-48d0-c152-8325c710aeee"
      },
      "execution_count": null,
      "outputs": [
        {
          "output_type": "stream",
          "name": "stdout",
          "text": [
            "Informe a probabilidade de sucesso em forma decimal (p): 0.3\n",
            "Informe o número de tentativas (n): 3\n",
            "Informe o valor necessário (k): 0\n",
            "A probabilidade de 0 vendas em 3 visitas é de: 0.343 ou 34.3%\n"
          ]
        }
      ]
    },
    {
      "cell_type": "code",
      "source": [
        "#num10 = (p**k)(((1-p)**(n-k)))\n",
        "import math\n",
        "pmf = math.comb(n, k) * (p **k) * ((1 - p) ** (n - k))\n",
        "print(pmf)"
      ],
      "metadata": {
        "colab": {
          "base_uri": "https://localhost:8080/"
        },
        "id": "rnVxIRt9nnQ5",
        "outputId": "f45c4046-2eb7-4c57-a074-2c8c38d67a8e"
      },
      "execution_count": null,
      "outputs": [
        {
          "output_type": "stream",
          "name": "stdout",
          "text": [
            "0.3429999999999999\n"
          ]
        }
      ]
    },
    {
      "cell_type": "code",
      "source": [
        "#Calcule a probabilidade de ao menos 2 vendas em 3 visitas\n",
        "# P(k>=2) = P(k=2) + P(k=3)\n",
        "p_maior_igual_2 = 1 - binom.cdf(1, 3, 0.3) #probabilidade de obter no máximo 1 sucesso\n",
        "print(f'{p_maior_igual_2:.3f}')"
      ],
      "metadata": {
        "colab": {
          "base_uri": "https://localhost:8080/"
        },
        "id": "PRHsmVEqqdnq",
        "outputId": "e36b1b59-34d0-4da2-d2b8-c4d60082bb0c"
      },
      "execution_count": null,
      "outputs": [
        {
          "output_type": "stream",
          "name": "stdout",
          "text": [
            "0.216\n"
          ]
        }
      ]
    },
    {
      "cell_type": "code",
      "source": [
        "# Calcule a probabilidade de no máximo 2 vendas\n",
        "#P(k <=2) = P(k+ 0) + P(k=1) + P(k=2)\n",
        "p_acumulado_2 = binom.cdf(2, 3, 0.3)\n",
        "print(f'{p_acumulado_2:.3f} ou {p_acumulado_2*100:.1f}%')"
      ],
      "metadata": {
        "colab": {
          "base_uri": "https://localhost:8080/"
        },
        "id": "GLLPkXLasUYj",
        "outputId": "b3802f9b-9a22-417c-ad7e-c12d3fb02170"
      },
      "execution_count": null,
      "outputs": [
        {
          "output_type": "stream",
          "name": "stdout",
          "text": [
            "0.973 ou 97.3%\n"
          ]
        }
      ]
    },
    {
      "cell_type": "code",
      "source": [
        "# Calcule a probabilidade de mais de 2 vendas\n",
        "# P (k >2) = P(k=3) ou 1 - P(k <=2)\n",
        "p_maior_2 = 1 - binom.cdf(2, 3, 0.3)\n",
        "print(f'{p_maior_2:.3f} ou {p_maior_2*100:.1f}%')\n",
        "# Calcule a probabilidade de exatamente 3 vendas\n",
        "\n",
        "sucesso = 3 #sucesso\n",
        "tentativa = 3  #nº de tentativas\n",
        "probabilidade_sucesso=  0.3 #probabilidade de sucesso\n",
        "p_vendas = binom.pmf(sucesso, tentativa, probabilidade_sucesso)\n",
        "print(f'A probabilidade de exatamente {sucesso} vendas é de: {p_vendas:.4f}')"
      ],
      "metadata": {
        "colab": {
          "base_uri": "https://localhost:8080/"
        },
        "id": "4XaQOwJ3tcL0",
        "outputId": "569d3866-6782-4982-c3a9-cba5481819dc"
      },
      "execution_count": null,
      "outputs": [
        {
          "output_type": "stream",
          "name": "stdout",
          "text": [
            "0.027 ou 2.7%\n",
            "A probabilidade de exatamente 3 vendas é de: 0.0270\n"
          ]
        }
      ]
    },
    {
      "cell_type": "code",
      "source": [
        "'''Um curso de treinamento aumenta a produtividade dos funcionários de uma certa empresa\n",
        "em 80% dos casos. Se dez funcionários são selecionados ao acaso para receber esse treinamento,\n",
        "encontre a probabilidade de: (segundo uma distribuição binomial)\n",
        "n = 10\n",
        "p= 0.8\n",
        "\n",
        "a) Exatamente sete funcionários aumentarem a produtividade; P(k = 7)\n",
        "\n",
        "b)Não mais que oito funcionários aumentarem a produtividade; P( k <= 8)\n",
        "\n",
        "c) Pelo menos três funcionários aumentarem a produtividade. P( k >= 3)\n",
        "'''\n",
        "# a)Exatamente sete funcionários aumentarem a produtividade; P(k = 7)\n",
        "n = 10\n",
        "p = 0.8\n",
        "sete_funcionarios_produtivos = binom.pmf(7, n, p)\n",
        "print(f'A probabilidade de sete funcionários aumentarem a produtividade após o curso é de: {sete_funcionarios_produtivos:.3f} ou {sete_funcionarios_produtivos*100:.1f}%')\n",
        "#b)Não mais que oito funcionários aumentarem a produtividade; P( k <= 8)\n",
        "oito_funcionarios_produtivos = binom.cdf(8, n, p)\n",
        "print(f'A probabilidade de oito funcionários aumentarem a produtividade após o curso é de: {oito_funcionarios_produtivos:.3f} ou {oito_funcionarios_produtivos*100:.1f}%')\n",
        "\n",
        "#c) Pelo menos três funcionários aumentarem a produtividade. P( k >= 3)\n",
        "pelo_menos_tres_funcionarios_produtivos = 1 - binom.cdf(2, n, p )\n",
        "print(f'A probabilidade de pelo menos três funcionários aumentarem a produtividade é de: {pelo_menos_tres_funcionarios_produtivos:.3f} ou {pelo_menos_tres_funcionarios_produtivos*100:.1f}%')\n",
        "\n",
        "#distribuição acumulada: probabilidade de que o número de sucessos seja menor ou igual a k"
      ],
      "metadata": {
        "colab": {
          "base_uri": "https://localhost:8080/"
        },
        "id": "EDhPpxpeufgw",
        "outputId": "2da67f41-6c07-4c9c-b076-9657b0f1b6d4"
      },
      "execution_count": null,
      "outputs": [
        {
          "output_type": "stream",
          "name": "stdout",
          "text": [
            "A probabilidade de sete funcionários aumentarem a produtividade após o curso é de: 0.201 ou 20.1%\n",
            "A probabilidade de oito funcionários aumentarem a produtividade após o curso é de: 0.624 ou 62.4%\n",
            "A probabilidade de pelo menos três funcionários aumentarem a produtividade é de: 1.000 ou 100.0%\n"
          ]
        }
      ]
    },
    {
      "cell_type": "code",
      "source": [
        "''' Muitas empresas usam uma técnica de controle de qualidade chamada de amostragem de aceitação para monitorar o\n",
        "carregamento de chegada de peças, matérias-primas e assim por diante. Na indústria eletrônica, as peças de componentes são\n",
        "comumente embarcadas pelos fornecedores em grandes lotes. A inspeção de uma amostra de n componentes pode ser vista como os n\n",
        "ensaios de um experimento binomial. O resultado de cada componente testado (ensaio) será aquele de que um componente é bom ou é defeituoso.\n",
        "A Reynolds Electronics aceita um lote de um determinado fornecedor se os componentes defeituosos em um lote não excedem 1%.\n",
        "Suponha uma amostra aleatória de cinco itens de um recente embarque tenha sido testada.\n",
        "\n",
        "a)   \tAssuma que 1% do embarque seja defeituoso. Calcule a probabilidade de que nenhum item na amostra seja defeituoso.\n",
        "b)  \tAssuma que 1% do embarque seja defeituoso. Calcule a probabilidade de que um item na amostra seja defeituoso.\n",
        "c)   \tQual é a probabilidade de se observar um item ou mais com defeito na amostra se 1% do embarque é defeituoso? '''\n",
        "'''n: Número de tentativas\n",
        "  p: probabilidade de sucesso\n",
        "  k: número de sucessos'''\n",
        "#a)\n",
        "import scipy.stats as sp\n",
        "k = 0 #sucesso\n",
        "n = 5  #nº de tentativas\n",
        "p = 0.01 #probabilidade de sucesso\n",
        "print(f'A probabilidade de 0 é: {(sp.binom.pmf( 0, 5, 0.01))*100:.2f}%')"
      ],
      "metadata": {
        "id": "8UJtbt3V3j8x",
        "colab": {
          "base_uri": "https://localhost:8080/"
        },
        "outputId": "65c0ec08-1c72-4492-c14d-a166d659daef"
      },
      "execution_count": null,
      "outputs": [
        {
          "output_type": "stream",
          "name": "stdout",
          "text": [
            "A probabilidade de 0 é: 95.10%\n"
          ]
        }
      ]
    },
    {
      "cell_type": "code",
      "source": [
        "#b)\tAssuma que 1% do embarque seja defeituoso. Calcule a probabilidade de que um item na amostra seja defeituoso.\n",
        "k = 1 #sucesso\n",
        "n = 5  #nº de tentativas\n",
        "p = 0.01  #probabilidade de sucesso\n",
        "print(f'A probabilidade de 1 é: {(sp.binom.pmf( 1, 5, 0.01))*100:.2f}%')"
      ],
      "metadata": {
        "colab": {
          "base_uri": "https://localhost:8080/"
        },
        "id": "99vqvGENmHdz",
        "outputId": "0930d265-3faf-4f67-8485-83669bed2667"
      },
      "execution_count": null,
      "outputs": [
        {
          "output_type": "stream",
          "name": "stdout",
          "text": [
            "A probabilidade de 1 é: 4.80%\n"
          ]
        }
      ]
    },
    {
      "cell_type": "code",
      "source": [
        "#c)Qual é a probabilidade de se observar um item ou mais com defeito na amostra se 1% do embarque é defeituoso? '''\n",
        "# k>=1 = 1 - p(k<=0)\n",
        "print(f'A probabilidade de pelo menos 1 é: {(1 - sp.binom.cdf( 0, 5, 0.01))*100:.2f}%')"
      ],
      "metadata": {
        "colab": {
          "base_uri": "https://localhost:8080/"
        },
        "id": "Qo-QSkXqoE56",
        "outputId": "cb7e542c-7c81-44f4-c3d2-92e3b7a2c0f4"
      },
      "execution_count": null,
      "outputs": [
        {
          "output_type": "stream",
          "name": "stdout",
          "text": [
            "A probabilidade de pelo menos 1 é: 4.90%\n"
          ]
        }
      ]
    },
    {
      "cell_type": "markdown",
      "source": [
        "![image.png](data:image/png;base64,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)"
      ],
      "metadata": {
        "id": "ID3l-1fcpQhU"
      }
    },
    {
      "cell_type": "code",
      "source": [
        "#a)\n",
        "k = 2  #sucesso\n",
        "n = 10  #nº de tentativas\n",
        "p = 0.05  #probabilidade de sucesso\n",
        "print(f' A probabilidade de 2 motoristas da amostra serem mulheres é de: {sp.binom.pmf(k, n, p):.3f}')"
      ],
      "metadata": {
        "colab": {
          "base_uri": "https://localhost:8080/"
        },
        "id": "SC33DQ7O0nII",
        "outputId": "6a023880-1fc2-481b-dd87-129305179023"
      },
      "execution_count": null,
      "outputs": [
        {
          "output_type": "stream",
          "name": "stdout",
          "text": [
            " A probabilidade de 2 motoristas da amostra serem mulheres é de: 0.075\n"
          ]
        }
      ]
    },
    {
      "cell_type": "code",
      "source": [
        "#b)\n",
        "k = 0  #sucesso\n",
        "n = 10  #nº de tentativas\n",
        "p = 0.05  #probabilidade de sucesso\n",
        "print(f' A probabilidade de nenhum dos motoristas da amostra serem mulheres é de: {sp.binom.pmf(k, n, p):.3f}')"
      ],
      "metadata": {
        "colab": {
          "base_uri": "https://localhost:8080/"
        },
        "id": "wjcI1aFE4FaR",
        "outputId": "f3424460-323f-4d7f-b0c1-18001c59f7c1"
      },
      "execution_count": null,
      "outputs": [
        {
          "output_type": "stream",
          "name": "stdout",
          "text": [
            " A probabilidade de nenhum dos motoristas da amostra serem mulheres é de: 0.599\n"
          ]
        }
      ]
    },
    {
      "cell_type": "code",
      "source": [
        "#c) P(k>=1) = 1 - P(k =0)\n",
        "k = 0  #sucesso\n",
        "n = 10  #nº de tentativas\n",
        "p = 0.05  #probabilidade de sucesso\n",
        "print(f' A probabilidade de pelo menos 1 dos motoristas da amostra ser mulher é de: {1 - sp.binom.cdf(k, n, p):.3f}')"
      ],
      "metadata": {
        "colab": {
          "base_uri": "https://localhost:8080/"
        },
        "id": "lJDzxOEU5C7D",
        "outputId": "639f39cf-a0b7-46f3-b9c1-f29b82fb78d9"
      },
      "execution_count": null,
      "outputs": [
        {
          "output_type": "stream",
          "name": "stdout",
          "text": [
            " A probabilidade de pelo menos 1 dos motoristas da amostra ser mulher é de: 0.401\n"
          ]
        }
      ]
    },
    {
      "cell_type": "markdown",
      "source": [
        "#Distribuição de Poisson"
      ],
      "metadata": {
        "id": "ZixXM7Z96hkR"
      }
    },
    {
      "cell_type": "markdown",
      "source": [
        "Distribuição de Poisson: verifica eventos que ocorrem em um intervalo de tempo ou espaço fixo. Descreve\n",
        "a probabilidade de ocorrer um determinado número de eventos por PERÍODO."
      ],
      "metadata": {
        "id": "RT_WOedR7Yxe"
      }
    },
    {
      "cell_type": "code",
      "source": [
        "'''Quando usar:\n",
        "*Contagem de eventos raros\n",
        "*Intervalos fixos de tempo\n",
        "*Taxa média de ocorrência do evento é conhecida e constante'''"
      ],
      "metadata": {
        "id": "ETvcFSnp7b6d"
      },
      "execution_count": null,
      "outputs": []
    },
    {
      "cell_type": "code",
      "source": [
        "#instalar as bibliotecas\n",
        "from scipy.stats import poisson\n",
        "import scipy.stats as sp\n",
        "\n",
        "#Qual a probabilidade de uma loja vender 5 maçãs em um dia, se a média diária é 3?\n",
        "#poisson.cdf(k, lambda)\n",
        "#k = sucesso\n",
        "#lambda = média / variância"
      ],
      "metadata": {
        "id": "QQaFB91B7uZl"
      },
      "execution_count": null,
      "outputs": []
    },
    {
      "cell_type": "code",
      "source": [
        "'''Imagine que a chegada de pessoas em um determinado caixa eletrônico obedece\n",
        "uma distribuiução de Poisson com taxa média de chegada de 12 pessoas por hora.Calcule:\n",
        "\n",
        "a) A probabilidade de que em uma hora qualquer cheguem 4 pessoas'''\n",
        "k = 4\n",
        "l = 12\n",
        "sp.poisson.pmf(k, l)"
      ],
      "metadata": {
        "colab": {
          "base_uri": "https://localhost:8080/"
        },
        "id": "XSFyEF2l9SBV",
        "outputId": "069fbf26-8686-4f97-b104-8530cca3be84"
      },
      "execution_count": null,
      "outputs": [
        {
          "output_type": "execute_result",
          "data": {
            "text/plain": [
              "np.float64(0.005308599473275576)"
            ]
          },
          "metadata": {},
          "execution_count": 4
        }
      ]
    },
    {
      "cell_type": "code",
      "source": [
        "#b) A probabilidade de que em uma hora qualquer cheguem 7 pessoas\n",
        "sp.poisson.pmf(7, l)"
      ],
      "metadata": {
        "colab": {
          "base_uri": "https://localhost:8080/"
        },
        "id": "OUG-LxDT-okO",
        "outputId": "8c2fbd45-165a-4cad-ed5d-17f3daba61f2"
      },
      "execution_count": null,
      "outputs": [
        {
          "output_type": "execute_result",
          "data": {
            "text/plain": [
              "np.float64(0.043682189951524654)"
            ]
          },
          "metadata": {},
          "execution_count": 5
        }
      ]
    },
    {
      "cell_type": "code",
      "source": [
        "#c) A probabilidade de que em uma hora qualquer cheguem 7 clientes ou menos\n",
        "#k<=7\n",
        "sp.poisson.cdf(7, 12)"
      ],
      "metadata": {
        "colab": {
          "base_uri": "https://localhost:8080/"
        },
        "id": "JEqihy-ZBcF8",
        "outputId": "d40ea7c8-8d61-4fd3-abb7-8937d766b1ac"
      },
      "execution_count": null,
      "outputs": [
        {
          "output_type": "execute_result",
          "data": {
            "text/plain": [
              "np.float64(0.08950449684017583)"
            ]
          },
          "metadata": {},
          "execution_count": 12
        }
      ]
    },
    {
      "cell_type": "code",
      "source": [
        "#d ) A probabilidade de que em uma hora qualquer cheguem menos de 7 clientes\n",
        "#k<7\n",
        "sp.poisson.cdf(6, 12)"
      ],
      "metadata": {
        "colab": {
          "base_uri": "https://localhost:8080/"
        },
        "id": "NJZjVHyLB8Tt",
        "outputId": "7f5a40d5-353e-4348-8c91-cb28f454c532"
      },
      "execution_count": null,
      "outputs": [
        {
          "output_type": "execute_result",
          "data": {
            "text/plain": [
              "np.float64(0.04582230688865106)"
            ]
          },
          "metadata": {},
          "execution_count": 14
        }
      ]
    },
    {
      "cell_type": "code",
      "source": [
        "# e) A probabilidade de que em uma hora qualquer cheguem 7 clientes ou mais\n",
        "#k>=7\n",
        "1 - sp.poisson.cdf(6,12)"
      ],
      "metadata": {
        "colab": {
          "base_uri": "https://localhost:8080/"
        },
        "id": "YTVpZx3nCNOs",
        "outputId": "34952bf8-1877-46b4-b7f7-81acf976c9fb"
      },
      "execution_count": null,
      "outputs": [
        {
          "output_type": "execute_result",
          "data": {
            "text/plain": [
              "np.float64(0.9541776931113489)"
            ]
          },
          "metadata": {},
          "execution_count": 15
        }
      ]
    },
    {
      "cell_type": "code",
      "source": [
        "# f) a probabilidade de que em uma hora qualquer cheguem mais de 7 clientes\n",
        "# k>7\n",
        "1 - sp.poisson.cdf(7, 12)"
      ],
      "metadata": {
        "colab": {
          "base_uri": "https://localhost:8080/"
        },
        "id": "G7U3tVqsCb8E",
        "outputId": "67c5a8ff-33b1-4a90-dbbf-4ca51b5c4547"
      },
      "execution_count": null,
      "outputs": [
        {
          "output_type": "execute_result",
          "data": {
            "text/plain": [
              "np.float64(0.9104955031598242)"
            ]
          },
          "metadata": {},
          "execution_count": 16
        }
      ]
    },
    {
      "cell_type": "code",
      "source": [
        "# g) a probabilidade de que em uma hora qualquer cheguem entre 7 e 9 clientes\n",
        "l= 12\n",
        "probabilidade_total = 0\n",
        "\n",
        "for k in range(7, 10):\n",
        "  probabilidade = poisson.pmf(k, l)\n",
        "  probabilidade_total += probabilidade\n",
        "  print(f'P(X= {k}) = {probabilidade:.4f}')\n",
        "print(f'Probabilidade total (7 <= X <= 9): {probabilidade_total:.4f} ou {probabilidade_total*100:.2f}%')"
      ],
      "metadata": {
        "colab": {
          "base_uri": "https://localhost:8080/"
        },
        "id": "t0sKw85MC38k",
        "outputId": "50852f2b-ba02-4240-fa3f-4ba35aa4012a"
      },
      "execution_count": null,
      "outputs": [
        {
          "output_type": "stream",
          "name": "stdout",
          "text": [
            "P(X= 7) = 0.0437\n",
            "P(X= 8) = 0.0655\n",
            "P(X= 9) = 0.0874\n",
            "Probabilidade total (7 <= X <= 9): 0.1966 ou 19.66%\n"
          ]
        }
      ]
    },
    {
      "cell_type": "code",
      "source": [
        "'''\n",
        "O número de petroleiros que chegam a uma refinaria em cada dia ocorre segundo\n",
        "uma distribuição de Poisson com média de 2 petroleiros por dia. As atuais\n",
        "instalações podem atender, no máximo, a três petroleiros por dia. Se mais de 3\n",
        "aportarem num dia, o excesso é enviado a outro porto. Qual a probabilidade de\n",
        "se enviar petroleiros a outro porto num determinado dia?'''\n",
        "#poisson.cdf(k, lambda)\n",
        "#k = sucesso\n",
        "#lambda = média / variância\n",
        "k= 3\n",
        "l= 2\n",
        "\n",
        "1 - sp.poisson.cdf(3, 2)"
      ],
      "metadata": {
        "colab": {
          "base_uri": "https://localhost:8080/"
        },
        "id": "mdoS0YGVpMTU",
        "outputId": "a268072d-fcee-4d24-f4d8-0e84e7683f56"
      },
      "execution_count": null,
      "outputs": [
        {
          "output_type": "execute_result",
          "data": {
            "text/plain": [
              "np.float64(0.14287653950145296)"
            ]
          },
          "metadata": {},
          "execution_count": 6
        }
      ]
    },
    {
      "cell_type": "code",
      "source": [
        "'''\n",
        "Carros chegam a um lava-carros aleatória e independentemente segundo uma\n",
        "distribuição de poisson; a probabilidade de uma chegada é a mesma para qualquer\n",
        "dois intervalos de tempo de igual comprimento. A taxa média de chegada é de 15\n",
        "carros por hora. Qual é a probabilidade de que 20 carros ou mais cheguem durante\n",
        "qualquer hora de operação?\n",
        " '''\n",
        "#poisson.cdf(k, lambda)\n",
        "#k = sucesso\n",
        "#lambda = média / variância\n",
        "k= 19\n",
        "l= 15\n",
        "\n",
        "1 - sp.poisson.cdf(19, 15)"
      ],
      "metadata": {
        "colab": {
          "base_uri": "https://localhost:8080/"
        },
        "id": "TQs_xE5PpRWN",
        "outputId": "307b0ba2-6270-456f-f26c-2e49cfdfa261"
      },
      "execution_count": null,
      "outputs": [
        {
          "output_type": "execute_result",
          "data": {
            "text/plain": [
              "np.float64(0.12478121503252493)"
            ]
          },
          "metadata": {},
          "execution_count": 7
        }
      ]
    },
    {
      "cell_type": "code",
      "source": [
        "'''As chegadas de clientes em um banco são aleatórias e independentes segundo uma\n",
        "distribuição de poisson; a probabilidade de uma chegada em qualquer período de\n",
        "um minuto é a mesma que a probabilidade de uma chegada em qualquer outro período\n",
        "de um minuto. Responda às seguintes questões, supondo uma taxa média de chegada\n",
        "de três clientes por minuto.\n",
        "a)      Qual é a probabilidade de exatamente três chegadas em um período de um minuto?\n",
        "b)      Qual é a probabilidade de pelo menos três chegadas em um período de um minuto?'''\n",
        "#poisson.cdf(k, lambda)\n",
        "#k = sucesso\n",
        "#lambda = média / variância\n",
        "#a)\n",
        "k= 3\n",
        "l= 3\n",
        "sp.poisson.pmf(3, 3)"
      ],
      "metadata": {
        "colab": {
          "base_uri": "https://localhost:8080/"
        },
        "id": "7SkZ7bWtpZEc",
        "outputId": "860b3e65-2815-48c2-d3d9-e40e65a1c60a"
      },
      "execution_count": null,
      "outputs": [
        {
          "output_type": "execute_result",
          "data": {
            "text/plain": [
              "np.float64(0.22404180765538775)"
            ]
          },
          "metadata": {},
          "execution_count": 8
        }
      ]
    },
    {
      "cell_type": "code",
      "source": [
        "#b)Qual é a probabilidade de pelo menos três chegadas em um período de um minuto?\n",
        "#k>=3\n",
        "1 - sp.poisson.cdf(2, 3)"
      ],
      "metadata": {
        "colab": {
          "base_uri": "https://localhost:8080/"
        },
        "id": "kL9Y2GBD1dHe",
        "outputId": "00e47072-59a9-4116-9b63-5a61eccd1470"
      },
      "execution_count": null,
      "outputs": [
        {
          "output_type": "execute_result",
          "data": {
            "text/plain": [
              "np.float64(0.5768099188731564)"
            ]
          },
          "metadata": {},
          "execution_count": 9
        }
      ]
    },
    {
      "cell_type": "code",
      "source": [
        "#Distribuição Normal/Gaussiana\n",
        "'''Distribuição Normal/Gaussiana: é uma distribuição contínua simétrica em forma de sino. É utilizada para\n",
        "modelar fenômenos naturais. Ex.: probabilidade de uma pessoa ter entre 1,70 e 1,80 de altura\n",
        "dentro de uma população;peso, pressão sanguínea, etc'''"
      ],
      "metadata": {
        "id": "s3Q7JhSV2BfW"
      },
      "execution_count": null,
      "outputs": []
    },
    {
      "cell_type": "code",
      "source": [
        "# Descreve como valores de uma variável estão distribuídos em torno de uma média\n",
        "\n",
        "#Imagine que você tenha que medir a altura de um grupo grande de pessoas. A maioria terá alturas próximas\n",
        "#à média, enquanto alturas muito menores ou muito maiores serão menos frequentes."
      ],
      "metadata": {
        "id": "ahzauf1X2G1G"
      },
      "execution_count": null,
      "outputs": []
    },
    {
      "cell_type": "code",
      "source": [
        "import numpy as np\n",
        "import matplotlib.pyplot as plt\n",
        "#parâmetro da distribuição\n",
        "media = 0 #mu\n",
        "desvio_padrao = 1 #sigma\n",
        "#geração de dados randomicos\n",
        "dados = np.random.normal(loc=media, scale=desvio_padrao, size=1000)\n",
        "\n",
        "plt.hist(dados, bins=30, density=True, alpha=0.6, color='blue')\n",
        "\n",
        "x = np.linspace(min(dados), max(dados), 1000)\n",
        "y = (1 / (np.sqrt(2 * np.pi) * desvio_padrao)) * np.exp(-0.5 * ((x - media) / desvio_padrao)**2)\n",
        "\n",
        "#plotar a curva\n",
        "plt.plot(x, y, color='red', label='Distribuição Gaussiana')\n",
        "plt.title('Distribuição Gaussiana')\n",
        "plt.xlabel('Valores')\n",
        "plt.ylabel('Probabilidade')\n",
        "plt.legend()\n",
        "plt.show()"
      ],
      "metadata": {
        "colab": {
          "base_uri": "https://localhost:8080/",
          "height": 472
        },
        "id": "Fl8hwZkb81lV",
        "outputId": "6467272a-182c-4a01-b44c-427a9dceefb0"
      },
      "execution_count": null,
      "outputs": [
        {
          "output_type": "display_data",
          "data": {
            "text/plain": [
              "<Figure size 640x480 with 1 Axes>"
            ],
            "image/png": "[encoded data removed]"
          },
          "metadata": {}
        }
      ]
    },
    {
      "cell_type": "code",
      "source": [
        "#Sintaxe: sp.norm.cdf(valor_desejado, média, desvio)\n",
        "'''\n",
        "Suponha que a média seja R$ 100.000 e o desvio seja R$ 10.000,00\n",
        "Calcule a probabilidade de que um valor qualquer seja menor ou igual a 100.000\n",
        "sp.norm.cdf(valor_desejado, média, desvio)\n",
        "'''\n",
        "#valor desejado\n",
        "# media\n",
        "#desvio\n",
        "sp.norm.cdf(100000,100000, 10000)"
      ],
      "metadata": {
        "colab": {
          "base_uri": "https://localhost:8080/"
        },
        "id": "_y6pMZQO_obH",
        "outputId": "32a0e622-1f0b-4433-8e42-20937e2f2109"
      },
      "execution_count": null,
      "outputs": [
        {
          "output_type": "execute_result",
          "data": {
            "text/plain": [
              "np.float64(0.5)"
            ]
          },
          "metadata": {},
          "execution_count": 13
        }
      ]
    },
    {
      "cell_type": "code",
      "source": [
        "'''\n",
        "Um fabricante de motores automotivos sabe que a vida útil dos motores segue\n",
        "uma distribuição normal de probabilidades com média de 500.000 km e desvio\n",
        "padrão de 10.000 km, assim calcule a probabilidade de que um motor qualquer\n",
        "tenha vida útil de:\n",
        "a) menor ou igual 480.000 km (norm.cdf) P(x <= 480000)\n",
        "b) maior que 480.000 km\n",
        "c) menor que 520.000 km (norm.cdf) P(x <= 520000)\n",
        "d) maior ou igual a 520.000 km\n",
        "e) entre 480.000 e 520.000 km'''"
      ],
      "metadata": {
        "id": "uZJpogsSBrfc"
      },
      "execution_count": null,
      "outputs": []
    },
    {
      "cell_type": "code",
      "source": [
        "#a) menor ou igual 480.000 km (norm.cdf) P(x <= 480000)\n",
        "a = sp.norm.cdf(480000, 500000, 10000)\n",
        "print(f'A probabilidade de que a vida útil seja menor ou igual a 480.000 km é de {a*100:.2}%')"
      ],
      "metadata": {
        "colab": {
          "base_uri": "https://localhost:8080/"
        },
        "id": "2hoNUg9eKsNN",
        "outputId": "10daca81-f4d0-442b-af13-f02b32fd7546"
      },
      "execution_count": null,
      "outputs": [
        {
          "output_type": "stream",
          "name": "stdout",
          "text": [
            "A probabilidade de que a vida útil seja menor ou igual a 480.000 km é de 2.3%\n"
          ]
        }
      ]
    },
    {
      "cell_type": "code",
      "source": [
        "#b) maior que 480.000 km\n",
        "b = 1- sp.norm.cdf(480000, 500000, 10000)\n",
        "print(f'A probabilidade de que a vida útil seja maior que 480.000 km é de {b*100:.3}%')"
      ],
      "metadata": {
        "colab": {
          "base_uri": "https://localhost:8080/"
        },
        "id": "wx1fOnuPLS-R",
        "outputId": "195a4bab-8c25-45e4-9f27-3faadb2052c6"
      },
      "execution_count": null,
      "outputs": [
        {
          "output_type": "stream",
          "name": "stdout",
          "text": [
            "A probabilidade de que a vida útil seja maior que 480.000 km é de 97.7%\n"
          ]
        }
      ]
    },
    {
      "cell_type": "code",
      "source": [
        "#c) menor que 520.000 km (norm.cdf) P(x <= 520000)\n",
        "c = sp.norm.cdf(520000, 500000, 10000)\n",
        "print(f'A probabilidade de que a vida útil seja maior que 480.000 km é de {c*100:.3}%')"
      ],
      "metadata": {
        "id": "8KfctX6WMeSu",
        "colab": {
          "base_uri": "https://localhost:8080/"
        },
        "outputId": "4bdb2ea3-34aa-43f8-e545-6b06b5d730ba"
      },
      "execution_count": null,
      "outputs": [
        {
          "output_type": "stream",
          "name": "stdout",
          "text": [
            "A probabilidade de que a vida útil seja maior que 480.000 km é de 97.7%\n"
          ]
        }
      ]
    },
    {
      "cell_type": "code",
      "source": [
        "#d) maior ou igual a 520.000 km\n",
        "d = 1 - sp.norm.cdf(520000, 500000, 10000)\n",
        "print(f'A probabilidade de que a vida útil seja maior que 480.000 km é de {d*100:.3}%')"
      ],
      "metadata": {
        "colab": {
          "base_uri": "https://localhost:8080/"
        },
        "id": "i92qaHJmrskJ",
        "outputId": "8beb27a1-3bf7-4cd7-9f13-a52d4b8062d9"
      },
      "execution_count": null,
      "outputs": [
        {
          "output_type": "stream",
          "name": "stdout",
          "text": [
            "A probabilidade de que a vida útil seja maior que 480.000 km é de 2.28%\n"
          ]
        }
      ]
    },
    {
      "cell_type": "code",
      "source": [
        "#e) entre 480.000 e 520.000 km\n",
        "e = c - a\n",
        "print(f'A probabiblidade de que a vida útil seja entre 480.000 e 520.000 km é {e*100:.3}%')"
      ],
      "metadata": {
        "colab": {
          "base_uri": "https://localhost:8080/"
        },
        "id": "o0QBGdIQrwOS",
        "outputId": "5ca1f09d-2007-465b-ee0f-1c7fb3fc68a7"
      },
      "execution_count": null,
      "outputs": [
        {
          "output_type": "stream",
          "name": "stdout",
          "text": [
            "A probabiblidade de que a vida útil seja entre 480.000 e 520.000 km é 95.4%\n"
          ]
        }
      ]
    }
  ]
}