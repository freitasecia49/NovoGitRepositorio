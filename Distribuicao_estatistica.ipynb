{
  "nbformat": 4,
  "nbformat_minor": 0,
  "metadata": {
    "colab": {
      "provenance": [],
      "authorship_tag": "ABX9TyOy1ckjnh+AbxLFn5x7WmtC",
      "include_colab_link": true
    },
    "kernelspec": {
      "name": "python3",
      "display_name": "Python 3"
    },
    "language_info": {
      "name": "python"
    }
  },
  "cells": [
    {
      "cell_type": "markdown",
      "metadata": {
        "id": "view-in-github",
        "colab_type": "text"
      },
      "source": [
        "<a href=\"https://colab.research.google.com/github/freitasecia49/NovoGitRepositorio/blob/master/Distribuicao_estatistica.ipynb\" target=\"_parent\"><img src=\"https://colab.research.google.com/assets/colab-badge.svg\" alt=\"Open In Colab\"/></a>"
      ]
    },
    {
      "cell_type": "markdown",
      "source": [
        "Distribuição de probabilidade: descreve como os valores de uma variável estão distribuídos ao longo de um conjunto de valores possíveis.\n",
        "Serve para entender se os valores são comuns ou incomuns e a calcular a probabilidade de ocorrer eventos específicos.\n",
        "\n",
        "**Distribuição binominal;** descreve a probabilidade de obter um determinado número de sucessos em um número fixo de tentativas independentes.\n",
        "\n",
        "*EX: lançar uma moeda 5 vezes e querer saber a probabilidade de obter exatamente 3 caras. Calcular a probabilidade de sucesso *\n",
        "\n",
        "**Distribuição de Poisson;** verifica eventos que ocorrem em um intervalo de tempo ou espaço fixo. Descreve a probabilidade de ocorrer um determinado número de eventos por PERÍODO.\n",
        "\n",
        "*EX call center: medir a probabilidade de um call center receber exatamente 5 chamadas em uma hora*\n",
        "\n",
        "**Distribuição Normal/Gaussiana;** é uma distribuição contínua simétrica em forma de sino. É utilizada para modelar fenômenos naturais.\n",
        "*EX probabilidade de uma pessoa ter entre 1,70 e 1,80 de altura dentro de uma população; peso, pressão sanguínea, etc*."
      ],
      "metadata": {
        "id": "E-D67XFBU7kl"
      }
    },
    {
      "cell_type": "code",
      "source": [
        "from scipy.stats import binom\n",
        "#sintaxe: binom.pmf(k, n, p)\n",
        "# k n° de sucessos que você quer calcular;\n",
        "# n n° de tentativas ou experimentos\n",
        "# p probabilidade de sucesso em uma única tentativa."
      ],
      "metadata": {
        "id": "d6bvEtZkVbF-"
      },
      "execution_count": null,
      "outputs": []
    },
    {
      "cell_type": "code",
      "source": [
        "#Lançar uma moeda 5 vezes e querer saber a probabilidade de obter exatamente 3 caras.\n",
        "#calcular a probabilidade de sucesso.\n",
        "\n",
        "k = 3\n",
        "n = 5\n",
        "p = 0.5\n",
        "\n",
        "prob = binom.pmf(k, n, p)\n",
        "print(prob)"
      ],
      "metadata": {
        "colab": {
          "base_uri": "https://localhost:8080/"
        },
        "id": "NQlrANzkaUBO",
        "outputId": "79a12c16-dcf2-4d2a-e796-9c50df2a0a56"
      },
      "execution_count": null,
      "outputs": [
        {
          "output_type": "stream",
          "name": "stdout",
          "text": [
            "0.31249999999999983\n"
          ]
        }
      ]
    },
    {
      "cell_type": "code",
      "source": [
        "#qual a probabilidade de acertar no máximo 3 caras\n",
        "#CDF = Função de Distribuição Cumulativa\n",
        "k = 3\n",
        "n = 5\n",
        "p = 0.5\n",
        "\n",
        "prob = binom.cdf(k, n, p)\n",
        "print(prob)"
      ],
      "metadata": {
        "colab": {
          "base_uri": "https://localhost:8080/"
        },
        "id": "rY05Y6mxccna",
        "outputId": "fae2a03c-c48a-4853-de9a-56b23cb784e8"
      },
      "execution_count": null,
      "outputs": [
        {
          "output_type": "stream",
          "name": "stdout",
          "text": [
            "0.8125\n"
          ]
        }
      ]
    },
    {
      "cell_type": "code",
      "source": [
        "#um venedor realiza 3 visitas e a probabilidade de fechar em cada visita é de 30%. Qual a probabilidade de não fechar nennhuma venda nas 3 visitas?\n",
        "\n",
        "k = 0 #sucesso\n",
        "n = 3 #n° de tentativas\n",
        "p = 0.3 #probabilidade de sucesso\n",
        "\n",
        "prob = binom.pmf(k, n, p)\n",
        "print(prob)"
      ],
      "metadata": {
        "colab": {
          "base_uri": "https://localhost:8080/"
        },
        "id": "rzsfGxDLfBOc",
        "outputId": "2ced9649-c5cc-40e1-e8e3-67148127fe04"
      },
      "execution_count": null,
      "outputs": [
        {
          "output_type": "stream",
          "name": "stdout",
          "text": [
            "0.3429999999999999\n"
          ]
        }
      ]
    },
    {
      "cell_type": "code",
      "source": [
        "def binomial ():\n",
        "  p = float(input('imforme a probabilidade de sucesso em forma decimal (p):'))\n",
        "  n = int(input('informe o número de tentativas (n):'))\n",
        "  k = int(input('informe o número de sucessos desejados (k):'))\n",
        "  prob = binom.pmf(k, n, p)\n",
        "  print(prob)\n"
      ],
      "metadata": {
        "id": "oNSFVedbhQAF"
      },
      "execution_count": null,
      "outputs": []
    },
    {
      "cell_type": "code",
      "source": [
        "binomial()"
      ],
      "metadata": {
        "colab": {
          "base_uri": "https://localhost:8080/",
          "height": 304
        },
        "id": "8Y4j4EJSiOgp",
        "outputId": "bb5dddcb-f4ee-4db8-b062-b16b994254e1"
      },
      "execution_count": null,
      "outputs": [
        {
          "output_type": "error",
          "ename": "KeyboardInterrupt",
          "evalue": "Interrupted by user",
          "traceback": [
            "\u001b[0;31m---------------------------------------------------------------------------\u001b[0m",
            "\u001b[0;31mKeyboardInterrupt\u001b[0m                         Traceback (most recent call last)",
            "\u001b[0;32m<ipython-input-14-e19e98aebe3e>\u001b[0m in \u001b[0;36m<cell line: 0>\u001b[0;34m()\u001b[0m\n\u001b[0;32m----> 1\u001b[0;31m \u001b[0mbinomial\u001b[0m\u001b[0;34m(\u001b[0m\u001b[0;34m)\u001b[0m\u001b[0;34m\u001b[0m\u001b[0;34m\u001b[0m\u001b[0m\n\u001b[0m",
            "\u001b[0;32m<ipython-input-10-e7b7f3170139>\u001b[0m in \u001b[0;36mbinomial\u001b[0;34m()\u001b[0m\n\u001b[1;32m      1\u001b[0m \u001b[0;32mdef\u001b[0m \u001b[0mbinomial\u001b[0m \u001b[0;34m(\u001b[0m\u001b[0;34m)\u001b[0m\u001b[0;34m:\u001b[0m\u001b[0;34m\u001b[0m\u001b[0;34m\u001b[0m\u001b[0m\n\u001b[0;32m----> 2\u001b[0;31m   \u001b[0mp\u001b[0m \u001b[0;34m=\u001b[0m \u001b[0mfloat\u001b[0m\u001b[0;34m(\u001b[0m\u001b[0minput\u001b[0m\u001b[0;34m(\u001b[0m\u001b[0;34m'imforme a probabilidade de sucesso em forma decimal (p):'\u001b[0m\u001b[0;34m)\u001b[0m\u001b[0;34m)\u001b[0m\u001b[0;34m\u001b[0m\u001b[0;34m\u001b[0m\u001b[0m\n\u001b[0m\u001b[1;32m      3\u001b[0m   \u001b[0mn\u001b[0m \u001b[0;34m=\u001b[0m \u001b[0mint\u001b[0m\u001b[0;34m(\u001b[0m\u001b[0minput\u001b[0m\u001b[0;34m(\u001b[0m\u001b[0;34m'informe o número de tentativas (n):'\u001b[0m\u001b[0;34m)\u001b[0m\u001b[0;34m)\u001b[0m\u001b[0;34m\u001b[0m\u001b[0;34m\u001b[0m\u001b[0m\n\u001b[1;32m      4\u001b[0m   \u001b[0mk\u001b[0m \u001b[0;34m=\u001b[0m \u001b[0mint\u001b[0m\u001b[0;34m(\u001b[0m\u001b[0minput\u001b[0m\u001b[0;34m(\u001b[0m\u001b[0;34m'informe o número de sucessos desejados (k):'\u001b[0m\u001b[0;34m)\u001b[0m\u001b[0;34m)\u001b[0m\u001b[0;34m\u001b[0m\u001b[0;34m\u001b[0m\u001b[0m\n\u001b[1;32m      5\u001b[0m   \u001b[0mprob\u001b[0m \u001b[0;34m=\u001b[0m \u001b[0mbinom\u001b[0m\u001b[0;34m.\u001b[0m\u001b[0mpmf\u001b[0m\u001b[0;34m(\u001b[0m\u001b[0mk\u001b[0m\u001b[0;34m,\u001b[0m \u001b[0mn\u001b[0m\u001b[0;34m,\u001b[0m \u001b[0mp\u001b[0m\u001b[0;34m)\u001b[0m\u001b[0;34m\u001b[0m\u001b[0;34m\u001b[0m\u001b[0m\n",
            "\u001b[0;32m/usr/local/lib/python3.11/dist-packages/ipykernel/kernelbase.py\u001b[0m in \u001b[0;36mraw_input\u001b[0;34m(self, prompt)\u001b[0m\n\u001b[1;32m   1175\u001b[0m                 \u001b[0;34m\"raw_input was called, but this frontend does not support input requests.\"\u001b[0m\u001b[0;34m\u001b[0m\u001b[0;34m\u001b[0m\u001b[0m\n\u001b[1;32m   1176\u001b[0m             )\n\u001b[0;32m-> 1177\u001b[0;31m         return self._input_request(\n\u001b[0m\u001b[1;32m   1178\u001b[0m             \u001b[0mstr\u001b[0m\u001b[0;34m(\u001b[0m\u001b[0mprompt\u001b[0m\u001b[0;34m)\u001b[0m\u001b[0;34m,\u001b[0m\u001b[0;34m\u001b[0m\u001b[0;34m\u001b[0m\u001b[0m\n\u001b[1;32m   1179\u001b[0m             \u001b[0mself\u001b[0m\u001b[0;34m.\u001b[0m\u001b[0m_parent_ident\u001b[0m\u001b[0;34m[\u001b[0m\u001b[0;34m\"shell\"\u001b[0m\u001b[0;34m]\u001b[0m\u001b[0;34m,\u001b[0m\u001b[0;34m\u001b[0m\u001b[0;34m\u001b[0m\u001b[0m\n",
            "\u001b[0;32m/usr/local/lib/python3.11/dist-packages/ipykernel/kernelbase.py\u001b[0m in \u001b[0;36m_input_request\u001b[0;34m(self, prompt, ident, parent, password)\u001b[0m\n\u001b[1;32m   1217\u001b[0m             \u001b[0;32mexcept\u001b[0m \u001b[0mKeyboardInterrupt\u001b[0m\u001b[0;34m:\u001b[0m\u001b[0;34m\u001b[0m\u001b[0;34m\u001b[0m\u001b[0m\n\u001b[1;32m   1218\u001b[0m                 \u001b[0;31m# re-raise KeyboardInterrupt, to truncate traceback\u001b[0m\u001b[0;34m\u001b[0m\u001b[0;34m\u001b[0m\u001b[0m\n\u001b[0;32m-> 1219\u001b[0;31m                 \u001b[0;32mraise\u001b[0m \u001b[0mKeyboardInterrupt\u001b[0m\u001b[0;34m(\u001b[0m\u001b[0;34m\"Interrupted by user\"\u001b[0m\u001b[0;34m)\u001b[0m \u001b[0;32mfrom\u001b[0m \u001b[0;32mNone\u001b[0m\u001b[0;34m\u001b[0m\u001b[0;34m\u001b[0m\u001b[0m\n\u001b[0m\u001b[1;32m   1220\u001b[0m             \u001b[0;32mexcept\u001b[0m \u001b[0mException\u001b[0m\u001b[0;34m:\u001b[0m\u001b[0;34m\u001b[0m\u001b[0;34m\u001b[0m\u001b[0m\n\u001b[1;32m   1221\u001b[0m                 \u001b[0mself\u001b[0m\u001b[0;34m.\u001b[0m\u001b[0mlog\u001b[0m\u001b[0;34m.\u001b[0m\u001b[0mwarning\u001b[0m\u001b[0;34m(\u001b[0m\u001b[0;34m\"Invalid Message:\"\u001b[0m\u001b[0;34m,\u001b[0m \u001b[0mexc_info\u001b[0m\u001b[0;34m=\u001b[0m\u001b[0;32mTrue\u001b[0m\u001b[0;34m)\u001b[0m\u001b[0;34m\u001b[0m\u001b[0;34m\u001b[0m\u001b[0m\n",
            "\u001b[0;31mKeyboardInterrupt\u001b[0m: Interrupted by user"
          ]
        }
      ]
    },
    {
      "cell_type": "code",
      "source": [
        "#calcule a probabilidade de no máximo 2 vendas\n",
        "#p(k <=2) = P(k+0) + P(k=1) + P(k=2)\n",
        "p_acumulado_2 = binom.cdf(2, 3, 0.3)\n",
        "print(f'{p_acumulado_2:.3f} ou {p_acumulado_2*100:.1f}%')"
      ],
      "metadata": {
        "colab": {
          "base_uri": "https://localhost:8080/"
        },
        "id": "PNrVAzDKqtW0",
        "outputId": "3f03f067-7625-4fe8-b9a5-140e389047d7"
      },
      "execution_count": null,
      "outputs": [
        {
          "output_type": "stream",
          "name": "stdout",
          "text": [
            "0.973 ou 97.3%\n"
          ]
        }
      ]
    },
    {
      "cell_type": "code",
      "source": [
        "'''curso de treinamento aumenta a produtividade de 80% dos casos.\n",
        "n = 10\n",
        "p = 0.8\n",
        "exatamente sete funicionários aumentarem a produtividade; P(k = 7)'''\n",
        "\n",
        "k = 7\n",
        "n = 10\n",
        "p = 0.8\n",
        "\n",
        "prob = binom.pmf(k, n, p)\n",
        "print(f'{prob:.3f} ou {prob*100:.1f}%')\n",
        "\n",
        "'''curso de treinamento aumenta a produtividade de 80% dos casos.\n",
        "n = 10\n",
        "p = 0.8\n",
        "Não mais que oito funcionários aumentarem a produtividade P(k <= 8)'''\n",
        "\n",
        "k = 8\n",
        "n = 10\n",
        "p = 0.8\n",
        "\n",
        "prob = binom.cdf(k, n, p)\n",
        "print(f'{prob:.3f} ou {prob*100:.1f}%')\n",
        "\n",
        "'''curso de treinamento aumenta a produtividade de 80% dos casos.\n",
        "n = 10\n",
        "p = 0.8\n",
        "Não mais que oito funcionários aumentarem a produtividade P(k >= 3)'''\n",
        "\n",
        "k = 2\n",
        "n = 10\n",
        "p = 0.8\n",
        "\n",
        "prob = 1 - binom.cdf(k, n, p)\n",
        "print(f'{prob:.3f} ou {prob*100:.1f}%')\n"
      ],
      "metadata": {
        "id": "foPJ8p7itoR5",
        "colab": {
          "base_uri": "https://localhost:8080/"
        },
        "outputId": "a819b2b4-fede-47bc-dadb-73df45dff3b1"
      },
      "execution_count": 17,
      "outputs": [
        {
          "output_type": "stream",
          "name": "stdout",
          "text": [
            "0.201 ou 20.1%\n",
            "0.624 ou 62.4%\n",
            "1.000 ou 100.0%\n"
          ]
        }
      ]
    }
  ]
}