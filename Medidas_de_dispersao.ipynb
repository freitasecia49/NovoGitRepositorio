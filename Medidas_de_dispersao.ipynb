{
  "nbformat": 4,
  "nbformat_minor": 0,
  "metadata": {
    "colab": {
      "provenance": [],
      "toc_visible": true,
      "authorship_tag": "ABX9TyNngWQ2/Gp9rbd22VPJ4nXO",
      "include_colab_link": true
    },
    "kernelspec": {
      "name": "python3",
      "display_name": "Python 3"
    },
    "language_info": {
      "name": "python"
    }
  },
  "cells": [
    {
      "cell_type": "markdown",
      "metadata": {
        "id": "view-in-github",
        "colab_type": "text"
      },
      "source": [
        "<a href=\"https://colab.research.google.com/github/freitasecia49/NovoGitRepositorio/blob/master/Medidas_de_dispersao.ipynb\" target=\"_parent\"><img src=\"https://colab.research.google.com/assets/colab-badge.svg\" alt=\"Open In Colab\"/></a>"
      ]
    },
    {
      "cell_type": "code",
      "source": [
        "import statistics\n",
        "import numpy as np\n",
        "from scipy import stats"
      ],
      "metadata": {
        "id": "P9Zrki8MpH2I"
      },
      "execution_count": 18,
      "outputs": []
    },
    {
      "cell_type": "markdown",
      "source": [
        "Concovariância: mede a variabilidade conjunta entre duas variáveis. Valores pasitivos indicam que ambas variam na"
      ],
      "metadata": {
        "id": "_gN0MAu9nSGp"
      }
    },
    {
      "cell_type": "code",
      "source": [
        "x = [1, 2, 3, 4, 5]\n",
        "y = [1, 2, 3, 1, 2]\n",
        "\n",
        "covariancia = statistics.covariance(x, y)\n",
        "print(covariancia)\n"
      ],
      "metadata": {
        "colab": {
          "base_uri": "https://localhost:8080/"
        },
        "id": "AJaJaIYLnnSL",
        "outputId": "32ed66e1-5dc7-4de9-e6f1-6d2c8bf2e401"
      },
      "execution_count": 19,
      "outputs": [
        {
          "output_type": "stream",
          "name": "stdout",
          "text": [
            "0.25\n"
          ]
        }
      ]
    },
    {
      "cell_type": "markdown",
      "source": [
        "Correlação de Pearson: Mede a relação linear entre duas variáveis. Varia entre -1 (correlação negativa perfeita)\n",
        " e +1 (correlação possitva perfeita). Ideal para dados contínuos e normalmente distribuídos.\n",
        " Suponnha que você deseja analisar a relação entre o peso da carga de um caminhão e o consumo de cobustível."
      ],
      "metadata": {
        "id": "PDPpp1vYoPG2"
      }
    },
    {
      "cell_type": "code",
      "source": [
        "peso_carga = np.array([10, 12, 8, 15, 11])\n",
        "consumo_combustivel = np.array([250, 280, 220, 320, 270])\n",
        "\n",
        "#cálculo da correlação de Pearson\n",
        "correlacao_coeficiente, p_valor = stats.pearsonr(x, y)\n",
        "\n",
        "print(f'coeficiente de correlação de Pearson: {correlacao_coeficiente}')\n",
        "print(f'p-valor: {p_valor}')\n",
        "\n",
        "\n",
        "alpha = 0.05\n",
        "#Hipótese nula(H0): Não há diferença no consumo do combustível\n",
        "#Hipótese alterntiva (H1): há diferença no consumo doe combustível\n",
        "#interpretação - significância\n",
        "\n",
        "\n",
        "if p_valor < alpha:\n",
        "    print('correlação é significativa')\n",
        "else:\n",
        "    print('correlação não é significativa')\n"
      ],
      "metadata": {
        "colab": {
          "base_uri": "https://localhost:8080/"
        },
        "id": "s7diF1Odovun",
        "outputId": "7f485fa7-1acb-4753-fbf3-788e4e63b924"
      },
      "execution_count": 29,
      "outputs": [
        {
          "output_type": "stream",
          "name": "stdout",
          "text": [
            "coeficiente de correlação de Pearson: 0.1889822365046136\n",
            "p-valor: 0.7608203755145106\n",
            "correlação não é significativa\n"
          ]
        }
      ]
    }
  ]
}