{
  "nbformat": 4,
  "nbformat_minor": 0,
  "metadata": {
    "colab": {
      "provenance": [],
      "authorship_tag": "ABX9TyO0x6oyfP7pfr52a7NI9N8g",
      "include_colab_link": true
    },
    "kernelspec": {
      "name": "python3",
      "display_name": "Python 3"
    },
    "language_info": {
      "name": "python"
    }
  },
  "cells": [
    {
      "cell_type": "markdown",
      "metadata": {
        "id": "view-in-github",
        "colab_type": "text"
      },
      "source": [
        "<a href=\"https://colab.research.google.com/github/freitasecia49/NovoGitRepositorio/blob/master/Medidas_de_dispersao.ipynb\" target=\"_parent\"><img src=\"https://colab.research.google.com/assets/colab-badge.svg\" alt=\"Open In Colab\"/></a>"
      ]
    },
    {
      "cell_type": "code",
      "execution_count": 1,
      "metadata": {
        "id": "e__TLqmmTa4r"
      },
      "outputs": [],
      "source": [
        "import numpy as np\n",
        "#funções estatísticas / matemáticas de alto nível\n",
        "'''https/'''"
      ]
    },
    {
      "cell_type": "markdown",
      "source": [],
      "metadata": {
        "id": "Jwvhp1iDWeCy"
      }
    },
    {
      "cell_type": "code",
      "source": [
        "#12, 15, 18, 20, 22\n",
        "dados = np.array([12, 15, 18, 20, 22])\n",
        "amplitude = np.max(dados) - np.min(dados)\n",
        "print(amplitude)"
      ],
      "metadata": {
        "colab": {
          "base_uri": "https://localhost:8080/"
        },
        "id": "G5uPiSHrTugd",
        "outputId": "47cdc8f3-6271-4237-a2f8-994ef764433b"
      },
      "execution_count": 3,
      "outputs": [
        {
          "output_type": "stream",
          "name": "stdout",
          "text": [
            "10\n"
          ]
        }
      ]
    },
    {
      "cell_type": "markdown",
      "source": [
        "Variância e desvio padrão\n",
        "Dados: 5,7,9,11,13\n",
        "Calcule a variância e o desvio padrão de dados, considerando que se trata de uma população e quando se trata de uma amostra"
      ],
      "metadata": {
        "id": "8iDbnijaUwy1"
      }
    },
    {
      "cell_type": "code",
      "source": [
        "dados2 = np.array([5, 7, 9, 11, 13])\n",
        "\n",
        "#variância e desvio padrão populacional\n",
        "variancia_populacional = np.var(dados2, ddof=0) # var = variânica\n",
        "desvio_padrao_populacional = np.std(dados2, ddof=0) # std = Standard Deviation\n",
        "desvio_padrao_populacional = np.around(desvio_padrao_populacional, 1)\n",
        "\n",
        "#variância e desvio padrão amostral\n",
        "variancia_amostral = np.var(dados2, ddof=1)\n",
        "desvio_padrao_amostral = np.std(dados2, ddof=1)\n",
        "desvio_padrao_amostral = np.around(desvio_padrao_amostral, 1)\n",
        "\n",
        "print(f'variancia_populacional: {variancia_populacional}')\n",
        "print(f'desvio_padrao_populacional: {desvio_padrao_populacional}')\n",
        "print(f'variancia_amostral: {variancia_amostral}')\n",
        "print(f'desvio_padrao_amostral: {desvio_padrao_amostral}')\n"
      ],
      "metadata": {
        "colab": {
          "base_uri": "https://localhost:8080/"
        },
        "id": "YGH58K2MVEzF",
        "outputId": "ba455017-286b-4897-867c-26d96defafee"
      },
      "execution_count": 8,
      "outputs": [
        {
          "output_type": "stream",
          "name": "stdout",
          "text": [
            "variancia_populacional: 8.0\n",
            "desvio_padrao_populacional: 2.8\n",
            "variancia_amostral: 10.0\n",
            "desvio_padrao_amostral: 3.2\n"
          ]
        }
      ]
    },
    {
      "cell_type": "markdown",
      "source": [
        "Comparação de dispersão\n",
        "Compare a dispersão dos dois conjuntos de dados usuando amplitude, variância e desvio padrão."
      ],
      "metadata": {
        "id": "Hvg22LYAhhU8"
      }
    },
    {
      "cell_type": "code",
      "source": [
        "dados1_comparacao = np.array([5, 5, 5, 5, 5])\n",
        "dados2_comparacao = np.array([1, 3, 5, 7, 9])\n",
        "\n",
        "#amplitude\n",
        "amplitude_dados1 = np.max(dados1_comparacao) - np.min(dados1_comparacao)\n",
        "amplitude_dados2 = np.max(dados2_comparacao) - np.min(dados2_comparacao)\n",
        "\n",
        "#variância e desvio padrão populacional\n",
        "variancia_populacional_dados1 = np.var(dados1_comparacao, ddof=0)\n",
        "desvio_padrao1_populacional = np.std(dados1_comparacao, ddof=0)\n",
        "desvio_padrao1_populacional = np.around(desvio_padrao1_populacional, 1)\n",
        "\n",
        "variancia_populacional_dados2 = np.var(dados2_comparacao, ddof=0)\n",
        "desvio_padrao2_populacional = np.std(dados2_comparacao, ddof=0)\n",
        "desvio_padrao2_populacional = np.around(desvio_padrao2_populacional, 1)\n",
        "\n",
        "print(f'amplitude_dados1: {amplitude_dados1}')\n",
        "print(f'amplitude_dados2: {amplitude_dados2}')\n",
        "print(f'variancia_populacional_dados1: {variancia_populacional_dados1}')\n",
        "print(f'variancia_populacional_dados2: {variancia_populacional_dados2}')\n",
        "print(f'desvio_padrao1_populacional: {desvio_padrao1_populacional}')\n",
        "print(f'desvio_padrao2_populacional: {desvio_padrao2_populacional}')"
      ],
      "metadata": {
        "colab": {
          "base_uri": "https://localhost:8080/"
        },
        "id": "aJqiLdDWh1dt",
        "outputId": "f33f2ab3-d284-4371-90d9-e22831099308"
      },
      "execution_count": 11,
      "outputs": [
        {
          "output_type": "stream",
          "name": "stdout",
          "text": [
            "amplitude_dados1: 0\n",
            "amplitude_dados2: 8\n",
            "variancia_populacional_dados1: 0.0\n",
            "variancia_populacional_dados2: 8.0\n",
            "desvio_padrao1_populacional: 0.0\n",
            "desvio_padrao2_populacional: 2.8\n"
          ]
        }
      ]
    }
  ]
}